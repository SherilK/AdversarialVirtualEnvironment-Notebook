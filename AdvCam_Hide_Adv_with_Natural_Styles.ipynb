{
  "nbformat": 4,
  "nbformat_minor": 0,
  "metadata": {
    "colab": {
      "name": "AdvCam-Hide-Adv-with-Natural-Styles.ipynb",
      "provenance": [],
      "collapsed_sections": []
    },
    "kernelspec": {
      "name": "python3",
      "display_name": "Python 3"
    },
    "accelerator": "GPU"
  },
  "cells": [
    {
      "cell_type": "markdown",
      "metadata": {
        "id": "Kaj2IqKgyPvR"
      },
      "source": [
        "#Set up a conda environment for Advcam on Google Colab"
      ]
    },
    {
      "cell_type": "code",
      "metadata": {
        "id": "5Efwznx0_4Jl"
      },
      "source": [
        "!which python # should return /usr/local/bin/python\n",
        "!python --version\n",
        "!echo $PYTHONPATH\n",
        "%env PYTHONPATH="
      ],
      "execution_count": null,
      "outputs": []
    },
    {
      "cell_type": "code",
      "metadata": {
        "id": "kGuv2UJpyXji"
      },
      "source": [
        "\n",
        "!wget https://developer.nvidia.com/compute/cuda/9.0/Prod/local_installers/cuda-repo-ubuntu1704-9-0-local_9.0.176-1_amd64-deb\n",
        "!dpkg -i cuda-repo-ubuntu1704-9-0-local_9.0.176-1_amd64-deb\n",
        "\n",
        "!apt-key add /var/cuda-repo-9-0-local/7fa2af80.pub\n",
        "!apt-get update\n",
        "!apt-get install cuda=9.0.176-1\n",
        "!apt autoremove"
      ],
      "execution_count": null,
      "outputs": []
    },
    {
      "cell_type": "code",
      "metadata": {
        "colab": {
          "base_uri": "https://localhost:8080/"
        },
        "id": "UUFbRZFtcdK2",
        "outputId": "3f53e16e-5c8b-4aa5-847b-2fc6e2bf41e8"
      },
      "source": [
        "from google.colab import drive\n",
        "drive.mount('/content/drive')"
      ],
      "execution_count": null,
      "outputs": [
        {
          "output_type": "stream",
          "text": [
            "Mounted at /content/drive\n"
          ],
          "name": "stdout"
        }
      ]
    },
    {
      "cell_type": "code",
      "metadata": {
        "id": "6UKWQTrd_OwN"
      },
      "source": [
        "!dpkg -i \"/content/drive/MyDrive/AdvCam-Req/libcudnn7_7.0.5.15-1+cuda9.1_amd64.deb\""
      ],
      "execution_count": null,
      "outputs": []
    },
    {
      "cell_type": "code",
      "metadata": {
        "id": "-6NcSFNEAqrI"
      },
      "source": [
        "%%bash\n",
        "MINICONDA_INSTALLER_SCRIPT=Miniconda3-4.5.4-Linux-x86_64.sh\n",
        "MINICONDA_PREFIX=/usr/local\n",
        "wget https://repo.continuum.io/miniconda/$MINICONDA_INSTALLER_SCRIPT\n",
        "chmod +x $MINICONDA_INSTALLER_SCRIPT\n",
        "./$MINICONDA_INSTALLER_SCRIPT -b -f -p $MINICONDA_PREFIX"
      ],
      "execution_count": null,
      "outputs": []
    },
    {
      "cell_type": "code",
      "metadata": {
        "id": "Ap1Lj0aaCPnR",
        "colab": {
          "base_uri": "https://localhost:8080/"
        },
        "outputId": "09b41ede-11ba-463a-f4c2-2cea91057cc9"
      },
      "source": [
        "!conda create -n advcam_env python=3.6"
      ],
      "execution_count": null,
      "outputs": [
        {
          "output_type": "stream",
          "text": [
            "Solving environment: - \b\b\\ \b\b| \b\b/ \b\b- \b\b\\ \b\b| \b\b/ \b\b- \b\b\\ \b\b| \b\b/ \b\b- \b\b\\ \b\b| \b\b/ \b\b- \b\b\\ \b\b| \b\b/ \b\b- \b\b\\ \b\b| \b\b/ \b\b- \b\b\\ \b\b| \b\b/ \b\b- \b\b\\ \b\b| \b\b/ \b\b- \b\b\\ \b\b| \b\b/ \b\b- \b\b\\ \b\b| \b\b/ \b\b- \b\b\\ \b\b| \b\b/ \b\b- \b\b\\ \b\b| \b\b/ \b\b- \b\b\\ \b\b| \b\b/ \b\b- \b\b\\ \b\b| \b\b/ \b\b- \b\b\\ \b\b| \b\b/ \b\b- \b\b\\ \b\b| \b\b/ \b\b- \b\b\\ \b\b| \b\b/ \b\b- \b\b\\ \b\b| \b\b/ \b\b- \b\b\\ \b\b| \b\b/ \b\b- \b\b\\ \b\b| \b\b/ \b\b- \b\b\\ \b\b| \b\b/ \b\b- \b\b\\ \b\b| \b\b/ \b\b- \b\b\\ \b\b| \b\b/ \b\b- \b\b\\ \b\b| \b\b/ \b\b- \b\b\\ \b\b| \b\b/ \b\b- \b\b\\ \b\b| \b\b/ \b\b- \b\b\\ \b\b| \b\b/ \b\b- \b\b\\ \b\b| \b\b/ \b\b- \b\b\\ \b\b| \b\bdone\n",
            "\n",
            "\n",
            "==> WARNING: A newer version of conda exists. <==\n",
            "  current version: 4.5.4\n",
            "  latest version: 4.10.1\n",
            "\n",
            "Please update conda by running\n",
            "\n",
            "    $ conda update -n base conda\n",
            "\n",
            "\n",
            "\n",
            "## Package Plan ##\n",
            "\n",
            "  environment location: /usr/local/envs/advcam_env\n",
            "\n",
            "  added / updated specs: \n",
            "    - python=3.6\n",
            "\n",
            "\n",
            "The following packages will be downloaded:\n",
            "\n",
            "    package                    |            build\n",
            "    ---------------------------|-----------------\n",
            "    tk-8.6.10                  |       hbc83047_0         3.2 MB\n",
            "    libgcc-ng-9.1.0            |       hdf63c60_0         8.1 MB\n",
            "    python-3.6.13              |       hdb3f193_0        33.9 MB\n",
            "    ld_impl_linux-64-2.33.1    |       h53a641e_7         645 KB\n",
            "    ca-certificates-2021.5.25  |       h06a4308_1         118 KB\n",
            "    wheel-0.36.2               |     pyhd3eb1b0_0          31 KB\n",
            "    openssl-1.1.1k             |       h27cfd23_0         3.8 MB\n",
            "    libstdcxx-ng-9.1.0         |       hdf63c60_0         4.0 MB\n",
            "    xz-5.2.5                   |       h7b6447c_0         438 KB\n",
            "    certifi-2021.5.30          |   py36h06a4308_0         141 KB\n",
            "    _libgcc_mutex-0.1          |             main           3 KB\n",
            "    setuptools-52.0.0          |   py36h06a4308_0         933 KB\n",
            "    zlib-1.2.11                |       h7b6447c_3         120 KB\n",
            "    ncurses-6.2                |       he6710b0_1         1.1 MB\n",
            "    readline-8.1               |       h27cfd23_0         464 KB\n",
            "    sqlite-3.35.4              |       hdfb4753_0         1.4 MB\n",
            "    pip-21.1.1                 |   py36h06a4308_0         2.1 MB\n",
            "    libffi-3.3                 |       he6710b0_2          54 KB\n",
            "    ------------------------------------------------------------\n",
            "                                           Total:        60.5 MB\n",
            "\n",
            "The following NEW packages will be INSTALLED:\n",
            "\n",
            "    _libgcc_mutex:    0.1-main                \n",
            "    ca-certificates:  2021.5.25-h06a4308_1    \n",
            "    certifi:          2021.5.30-py36h06a4308_0\n",
            "    ld_impl_linux-64: 2.33.1-h53a641e_7       \n",
            "    libffi:           3.3-he6710b0_2          \n",
            "    libgcc-ng:        9.1.0-hdf63c60_0        \n",
            "    libstdcxx-ng:     9.1.0-hdf63c60_0        \n",
            "    ncurses:          6.2-he6710b0_1          \n",
            "    openssl:          1.1.1k-h27cfd23_0       \n",
            "    pip:              21.1.1-py36h06a4308_0   \n",
            "    python:           3.6.13-hdb3f193_0       \n",
            "    readline:         8.1-h27cfd23_0          \n",
            "    setuptools:       52.0.0-py36h06a4308_0   \n",
            "    sqlite:           3.35.4-hdfb4753_0       \n",
            "    tk:               8.6.10-hbc83047_0       \n",
            "    wheel:            0.36.2-pyhd3eb1b0_0     \n",
            "    xz:               5.2.5-h7b6447c_0        \n",
            "    zlib:             1.2.11-h7b6447c_3       \n",
            "\n",
            "Proceed ([y]/n)? y\n",
            "\n",
            "\n",
            "Downloading and Extracting Packages\n",
            "tk-8.6.10            |  3.2 MB | : 100% 1.0/1 [00:00<00:00,  1.34it/s]               \n",
            "libgcc-ng-9.1.0      |  8.1 MB | : 100% 1.0/1 [00:01<00:00,  1.47s/it]               \n",
            "python-3.6.13        | 33.9 MB | : 100% 1.0/1 [00:05<00:00,  5.40s/it]               \n",
            "ld_impl_linux-64-2.3 |  645 KB | : 100% 1.0/1 [00:00<00:00,  6.02it/s]              \n",
            "ca-certificates-2021 |  118 KB | : 100% 1.0/1 [00:00<00:00, 13.71it/s]\n",
            "wheel-0.36.2         |   31 KB | : 100% 1.0/1 [00:00<00:00, 21.18it/s]\n",
            "openssl-1.1.1k       |  3.8 MB | : 100% 1.0/1 [00:00<00:00,  1.42it/s]               \n",
            "libstdcxx-ng-9.1.0   |  4.0 MB | : 100% 1.0/1 [00:00<00:00,  1.45it/s]              \n",
            "xz-5.2.5             |  438 KB | : 100% 1.0/1 [00:00<00:00,  6.60it/s]               \n",
            "certifi-2021.5.30    |  141 KB | : 100% 1.0/1 [00:00<00:00, 17.92it/s]\n",
            "_libgcc_mutex-0.1    |    3 KB | : 100% 1.0/1 [00:00<00:00, 24.11it/s]\n",
            "setuptools-52.0.0    |  933 KB | : 100% 1.0/1 [00:00<00:00,  3.02it/s]               \n",
            "zlib-1.2.11          |  120 KB | : 100% 1.0/1 [00:00<00:00, 17.86it/s]\n",
            "ncurses-6.2          |  1.1 MB | : 100% 1.0/1 [00:01<00:00,  1.05s/it]               \n",
            "readline-8.1         |  464 KB | : 100% 1.0/1 [00:00<00:00,  7.54it/s]               \n",
            "sqlite-3.35.4        |  1.4 MB | : 100% 1.0/1 [00:00<00:00,  3.68it/s]               \n",
            "pip-21.1.1           |  2.1 MB | : 100% 1.0/1 [00:00<00:00,  1.34it/s]               \n",
            "libffi-3.3           |   54 KB | : 100% 1.0/1 [00:00<00:00, 24.00it/s]\n",
            "Preparing transaction: - \b\b\\ \b\b| \b\bdone\n",
            "Verifying transaction: - \b\b\\ \b\b| \b\b/ \b\b- \b\b\\ \b\b| \b\b/ \b\b- \b\b\\ \b\b| \b\b/ \b\b- \b\b\\ \b\b| \b\b/ \b\b- \b\b\\ \b\b| \b\b/ \b\b- \b\bdone\n",
            "Executing transaction: | \b\b/ \b\b- \b\b\\ \b\b| \b\b/ \b\b- \b\b\\ \b\b| \b\b/ \b\b- \b\b\\ \b\b| \b\b/ \b\b- \b\bdone\n",
            "#\n",
            "# To activate this environment, use:\n",
            "# > source activate advcam_env\n",
            "#\n",
            "# To deactivate an active environment, use:\n",
            "# > source deactivate\n",
            "#\n",
            "\n"
          ],
          "name": "stdout"
        }
      ]
    },
    {
      "cell_type": "code",
      "metadata": {
        "id": "s6dnuYtS-Zqj"
      },
      "source": [
        "!source activate advcam_env\n",
        "!git clone https://github.com/RjDuan/AdvCam-Hide-Adv-with-Natural-Styles\n",
        "%cd AdvCam-Hide-Adv-with-Natural-Styles\n",
        "!pip install --user --requirement requirements.txt"
      ],
      "execution_count": null,
      "outputs": []
    },
    {
      "cell_type": "code",
      "metadata": {
        "colab": {
          "base_uri": "https://localhost:8080/"
        },
        "id": "WBRmsijCjp2I",
        "outputId": "cfbbdd1c-257e-4bee-e63d-ad702b028040"
      },
      "source": [
        "!source activate advcam_env\n",
        "%cd AdvCam-Hide-Adv-with-Natural-Styles"
      ],
      "execution_count": null,
      "outputs": [
        {
          "output_type": "stream",
          "text": [
            "/content/AdvCam-Hide-Adv-with-Natural-Styles\n"
          ],
          "name": "stdout"
        }
      ]
    },
    {
      "cell_type": "code",
      "metadata": {
        "id": "PKaU5TESG4-s"
      },
      "source": [
        "from google.colab import drive\n",
        "drive.mount('/content/drive')\n",
        "\n",
        "!ln -s \"/content/drive/MyDrive/AdvCam-Req/vgg19.npy\" \"/content/AdvCam-Hide-Adv-with-Natural-Styles/vgg19\""
      ],
      "execution_count": null,
      "outputs": []
    },
    {
      "cell_type": "code",
      "metadata": {
        "id": "2G7QLEpe_FuO"
      },
      "source": [
        "#!pip install tensorflow-gpu==1.4\n",
        "!bash run.sh"
      ],
      "execution_count": null,
      "outputs": []
    }
  ]
}