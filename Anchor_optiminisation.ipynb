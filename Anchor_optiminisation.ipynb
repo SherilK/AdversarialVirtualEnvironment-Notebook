{
  "nbformat": 4,
  "nbformat_minor": 0,
  "metadata": {
    "colab": {
      "name": "Anchor-optiminisation.ipynb",
      "provenance": []
    },
    "kernelspec": {
      "name": "python3",
      "display_name": "Python 3"
    },
    "language_info": {
      "name": "python"
    }
  },
  "cells": [
    {
      "cell_type": "markdown",
      "metadata": {
        "id": "f0Y-DYtYrbkC"
      },
      "source": [
        "#Downgrade Tensorflow and Keras"
      ]
    },
    {
      "cell_type": "code",
      "metadata": {
        "colab": {
          "base_uri": "https://localhost:8080/"
        },
        "id": "N0t-M3QAT2rS",
        "outputId": "78449a3a-c166-41bc-d45e-adad3bef0aa9"
      },
      "source": [
        "import tensorflow\n",
        "print(tensorflow.__version__)"
      ],
      "execution_count": null,
      "outputs": [
        {
          "output_type": "stream",
          "text": [
            "2.3.0\n"
          ],
          "name": "stdout"
        }
      ]
    },
    {
      "cell_type": "code",
      "metadata": {
        "id": "7FWx8egUZptM"
      },
      "source": [
        "!pip uninstall keras-nightly\n",
        "\n",
        "!pip uninstall -y tensorflow\n",
        "\n",
        "!pip install h5py==2.10.0  \n"
      ],
      "execution_count": null,
      "outputs": []
    },
    {
      "cell_type": "code",
      "metadata": {
        "id": "8hd_PvMnUXk3"
      },
      "source": [
        "!pip uninstall tensorflow\n",
        "!pip uninstall keras"
      ],
      "execution_count": null,
      "outputs": []
    },
    {
      "cell_type": "code",
      "metadata": {
        "id": "dWZunrewUtm_"
      },
      "source": [
        "!pip install tensorflow==2.3.0\n",
        "!pip install keras==2.4.3"
      ],
      "execution_count": null,
      "outputs": []
    },
    {
      "cell_type": "markdown",
      "metadata": {
        "id": "JD4rmdL6rimL"
      },
      "source": [
        "#Anchor Optimization"
      ]
    },
    {
      "cell_type": "code",
      "metadata": {
        "colab": {
          "base_uri": "https://localhost:8080/"
        },
        "id": "hRKzQWKUeUve",
        "outputId": "0d06def5-358f-40b8-a23a-b96ad1676b43"
      },
      "source": [
        "!git clone https://github.com/martinzlocha/anchor-optimization.git"
      ],
      "execution_count": 1,
      "outputs": [
        {
          "output_type": "stream",
          "text": [
            "Cloning into 'anchor-optimization'...\n",
            "remote: Enumerating objects: 77, done.\u001b[K\n",
            "remote: Total 77 (delta 0), reused 0 (delta 0), pack-reused 77\u001b[K\n",
            "Unpacking objects: 100% (77/77), done.\n"
          ],
          "name": "stdout"
        }
      ]
    },
    {
      "cell_type": "code",
      "metadata": {
        "id": "qMuktBZ4euCv"
      },
      "source": [
        "%cd anchor-optimization/\n",
        "!pip install ."
      ],
      "execution_count": null,
      "outputs": []
    },
    {
      "cell_type": "code",
      "metadata": {
        "id": "4oIifofke6o9"
      },
      "source": [
        "!python setup.py build_ext --inplace"
      ],
      "execution_count": null,
      "outputs": []
    },
    {
      "cell_type": "code",
      "metadata": {
        "id": "oWd-fm8ifaDj"
      },
      "source": [
        "!anchor-optimization /content/GT39_train_1.csv --no-resize"
      ],
      "execution_count": null,
      "outputs": []
    },
    {
      "cell_type": "code",
      "metadata": {
        "colab": {
          "base_uri": "https://localhost:8080/"
        },
        "id": "YjZyVSA99_07",
        "outputId": "601676d1-3c02-4088-cce3-373ea6f64d5f"
      },
      "source": [
        "!anchor-optimization /content/Daynoblur.csv --no-resize"
      ],
      "execution_count": 3,
      "outputs": [
        {
          "output_type": "stream",
          "text": [
            "2021-06-08 00:18:33.703469: I tensorflow/stream_executor/platform/default/dso_loader.cc:48] Successfully opened dynamic library libcudart.so.10.1\n",
            "Optimization ended successfully!\n",
            "\n",
            "Final best anchor configuration\n",
            "State: 0.12974\n",
            "Ratios: [0.459, 1.0, 2.178]\n",
            "Scales: [0.437, 0.547, 0.699]\n",
            "Number of labels that don't have any matching anchor: 0\n"
          ],
          "name": "stdout"
        }
      ]
    }
  ]
}