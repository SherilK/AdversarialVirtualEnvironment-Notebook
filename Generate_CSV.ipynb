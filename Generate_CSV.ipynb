{
  "nbformat": 4,
  "nbformat_minor": 0,
  "metadata": {
    "colab": {
      "name": "Generate_CSV.ipynb",
      "provenance": []
    },
    "kernelspec": {
      "name": "python3",
      "display_name": "Python 3"
    },
    "language_info": {
      "name": "python"
    }
  },
  "cells": [
    {
      "cell_type": "code",
      "metadata": {
        "id": "t_DDuQO5PXCm",
        "colab": {
          "base_uri": "https://localhost:8080/"
        },
        "outputId": "c0f21a00-3bce-4a31-aae6-87df80fe3b6e"
      },
      "source": [
        "!git clone https://github.com/douglasrizzo/detection_util_scripts.git"
      ],
      "execution_count": null,
      "outputs": [
        {
          "output_type": "stream",
          "text": [
            "Cloning into 'detection_util_scripts'...\n",
            "remote: Enumerating objects: 785, done.\u001b[K\n",
            "remote: Total 785 (delta 0), reused 0 (delta 0), pack-reused 785\u001b[K\n",
            "Receiving objects: 100% (785/785), 48.04 MiB | 38.71 MiB/s, done.\n",
            "Resolving deltas: 100% (487/487), done.\n"
          ],
          "name": "stdout"
        }
      ]
    },
    {
      "cell_type": "code",
      "metadata": {
        "id": "e1rBqc9QQATz"
      },
      "source": [
        "%cd detection_util_scripts\n",
        "%ls"
      ],
      "execution_count": null,
      "outputs": []
    },
    {
      "cell_type": "code",
      "metadata": {
        "id": "f4Uzi_rIPm8q"
      },
      "source": [
        "from detection_util_scripts.generate_csv import xml_to_csv"
      ],
      "execution_count": null,
      "outputs": []
    },
    {
      "cell_type": "code",
      "metadata": {
        "id": "a3Iv2y60QKQc"
      },
      "source": [
        "!unzip /content/sun90xml.zip -d /content"
      ],
      "execution_count": null,
      "outputs": []
    },
    {
      "cell_type": "code",
      "metadata": {
        "colab": {
          "base_uri": "https://localhost:8080/"
        },
        "id": "mPxsV3P-Vhu_",
        "outputId": "0c5c707b-7c58-4ce1-eee0-9f2d1a1505a0"
      },
      "source": [
        "xml_to_csv('/content/sun90xml', '/content/sun90.csv')"
      ],
      "execution_count": null,
      "outputs": [
        {
          "output_type": "stream",
          "text": [
            "100%|██████████| 77/77 [00:00<00:00, 7747.66it/s]\n"
          ],
          "name": "stderr"
        }
      ]
    }
  ]
}