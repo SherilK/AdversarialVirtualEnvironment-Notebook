{
  "nbformat": 4,
  "nbformat_minor": 0,
  "metadata": {
    "accelerator": "GPU",
    "colab": {
      "name": "EMTD_trained_keras_retinanet.ipynb",
      "provenance": [],
      "collapsed_sections": [
        "Zv084TujfyLq"
      ]
    },
    "kernelspec": {
      "display_name": "Python 3",
      "name": "python3"
    }
  },
  "cells": [
    {
      "cell_type": "markdown",
      "metadata": {
        "id": "gsd5OWjzxmSd"
      },
      "source": [
        "#Downgrade Tensorflow and Keras"
      ]
    },
    {
      "cell_type": "code",
      "metadata": {
        "colab": {
          "base_uri": "https://localhost:8080/"
        },
        "id": "N0t-M3QAT2rS",
        "outputId": "be9642f8-a09e-4830-923a-486f11ea351f"
      },
      "source": [
        "import tensorflow\n",
        "print(tensorflow.__version__)"
      ],
      "execution_count": null,
      "outputs": [
        {
          "output_type": "stream",
          "text": [
            "2.3.0\n"
          ],
          "name": "stdout"
        }
      ]
    },
    {
      "cell_type": "code",
      "metadata": {
        "id": "7FWx8egUZptM"
      },
      "source": [
        "!pip uninstall keras-nightly\n",
        "\n",
        "!pip uninstall -y tensorflow\n",
        "\n",
        "!pip install h5py==2.10.0  \n"
      ],
      "execution_count": null,
      "outputs": []
    },
    {
      "cell_type": "code",
      "metadata": {
        "id": "8hd_PvMnUXk3"
      },
      "source": [
        "!pip uninstall tensorflow\n",
        "!pip uninstall keras"
      ],
      "execution_count": null,
      "outputs": []
    },
    {
      "cell_type": "code",
      "metadata": {
        "id": "dWZunrewUtm_"
      },
      "source": [
        "!pip install tensorflow==2.3.0\n",
        "!pip install keras==2.4.3"
      ],
      "execution_count": null,
      "outputs": []
    },
    {
      "cell_type": "code",
      "metadata": {
        "id": "WrB9QEEyNltA"
      },
      "source": [
        "!git clone https://github.com/SherilK/keras-retinanet.git\n",
        "!mkdir -p drive\n",
        "!google-drive-ocamlfuse drive\n",
        "%cd keras-retinanet/\n",
        "!pip install . --user\n",
        "\n",
        "!python3 setup.py build_ext --inplace"
      ],
      "execution_count": null,
      "outputs": []
    },
    {
      "cell_type": "markdown",
      "metadata": {
        "id": "0cWMue0Vc56V"
      },
      "source": [
        "#Must create EMTD folder and download EMTD.zip to drive.  \n",
        "Unzips EMTD zip file into the EMTD folder. \n",
        "\n"
      ]
    },
    {
      "cell_type": "code",
      "metadata": {
        "id": "sHWBDH9RcjDK"
      },
      "source": [
        "from google.colab import drive\n",
        "drive.mount('/content/drive')\n",
        "\n",
        "\n",
        "!unzip /content/drive/MyDrive/EMTD.zip -d /content/EMTD_ALL"
      ],
      "execution_count": null,
      "outputs": []
    },
    {
      "cell_type": "code",
      "metadata": {
        "id": "0sinZLuR9Cgz"
      },
      "source": [
        "#TO CONTINUE ON TRAINING FROM PREVIOUS MODEL\n",
        "!ln -s \"/content/drive/MyDrive/Resnet_Models/resnet50_csv_75.h5\" \"/content/keras-retinanet/keras_retinanet/bin/snapshots\"\n"
      ],
      "execution_count": null,
      "outputs": []
    },
    {
      "cell_type": "markdown",
      "metadata": {
        "id": "Zv084TujfyLq"
      },
      "source": [
        "#Rewrite Annotions for filenames with DSC<> and P<> to change jpg to JPG"
      ]
    },
    {
      "cell_type": "code",
      "metadata": {
        "colab": {
          "base_uri": "https://localhost:8080/",
          "height": 419
        },
        "id": "_EZRY-M8RLdC",
        "outputId": "09f80996-01cf-4e4c-dff5-c6c6b9c59c95"
      },
      "source": [
        "import pandas as pd\n",
        "df = pd.read_csv('/content/EMTD_ALL/EMTD/Detection/GT39_train_3.csv', header=None)\n",
        "df"
      ],
      "execution_count": null,
      "outputs": [
        {
          "output_type": "execute_result",
          "data": {
            "text/html": [
              "<div>\n",
              "<style scoped>\n",
              "    .dataframe tbody tr th:only-of-type {\n",
              "        vertical-align: middle;\n",
              "    }\n",
              "\n",
              "    .dataframe tbody tr th {\n",
              "        vertical-align: top;\n",
              "    }\n",
              "\n",
              "    .dataframe thead th {\n",
              "        text-align: right;\n",
              "    }\n",
              "</style>\n",
              "<table border=\"1\" class=\"dataframe\">\n",
              "  <thead>\n",
              "    <tr style=\"text-align: right;\">\n",
              "      <th></th>\n",
              "      <th>0</th>\n",
              "      <th>1</th>\n",
              "      <th>2</th>\n",
              "      <th>3</th>\n",
              "      <th>4</th>\n",
              "      <th>5</th>\n",
              "    </tr>\n",
              "  </thead>\n",
              "  <tbody>\n",
              "    <tr>\n",
              "      <th>0</th>\n",
              "      <td>DSC-0134.JPG</td>\n",
              "      <td>1894</td>\n",
              "      <td>1022</td>\n",
              "      <td>1949</td>\n",
              "      <td>1078</td>\n",
              "      <td>Obstacles ahead</td>\n",
              "    </tr>\n",
              "    <tr>\n",
              "      <th>1</th>\n",
              "      <td>P1840410.JPG</td>\n",
              "      <td>1420</td>\n",
              "      <td>1881</td>\n",
              "      <td>1700</td>\n",
              "      <td>2200</td>\n",
              "      <td>Split way</td>\n",
              "    </tr>\n",
              "    <tr>\n",
              "      <th>2</th>\n",
              "      <td>P1840312.JPG</td>\n",
              "      <td>2257</td>\n",
              "      <td>1019</td>\n",
              "      <td>3476</td>\n",
              "      <td>2245</td>\n",
              "      <td>Keep left</td>\n",
              "    </tr>\n",
              "    <tr>\n",
              "      <th>3</th>\n",
              "      <td>P1840522.JPG</td>\n",
              "      <td>2387</td>\n",
              "      <td>1744</td>\n",
              "      <td>2420</td>\n",
              "      <td>1776</td>\n",
              "      <td>Minor road on left</td>\n",
              "    </tr>\n",
              "    <tr>\n",
              "      <th>4</th>\n",
              "      <td>P1840071.JPG</td>\n",
              "      <td>309</td>\n",
              "      <td>1329</td>\n",
              "      <td>605</td>\n",
              "      <td>1613</td>\n",
              "      <td>Speed limit 50</td>\n",
              "    </tr>\n",
              "    <tr>\n",
              "      <th>...</th>\n",
              "      <td>...</td>\n",
              "      <td>...</td>\n",
              "      <td>...</td>\n",
              "      <td>...</td>\n",
              "      <td>...</td>\n",
              "      <td>...</td>\n",
              "    </tr>\n",
              "    <tr>\n",
              "      <th>1882</th>\n",
              "      <td>P1840580.JPG</td>\n",
              "      <td>2438</td>\n",
              "      <td>712</td>\n",
              "      <td>2794</td>\n",
              "      <td>1107</td>\n",
              "      <td>No entry</td>\n",
              "    </tr>\n",
              "    <tr>\n",
              "      <th>1883</th>\n",
              "      <td>Screenshot (96).png</td>\n",
              "      <td>1407</td>\n",
              "      <td>527</td>\n",
              "      <td>1440</td>\n",
              "      <td>571</td>\n",
              "      <td>Crossroads to the left</td>\n",
              "    </tr>\n",
              "    <tr>\n",
              "      <th>1884</th>\n",
              "      <td>Screenshot (168).png</td>\n",
              "      <td>754</td>\n",
              "      <td>464</td>\n",
              "      <td>798</td>\n",
              "      <td>506</td>\n",
              "      <td>Crossroads to the right</td>\n",
              "    </tr>\n",
              "    <tr>\n",
              "      <th>1885</th>\n",
              "      <td>P1840068.JPG</td>\n",
              "      <td>3912</td>\n",
              "      <td>1549</td>\n",
              "      <td>4152</td>\n",
              "      <td>1786</td>\n",
              "      <td>Speed limit 50</td>\n",
              "    </tr>\n",
              "    <tr>\n",
              "      <th>1886</th>\n",
              "      <td>P1840108.JPG</td>\n",
              "      <td>792</td>\n",
              "      <td>1432</td>\n",
              "      <td>1073</td>\n",
              "      <td>1709</td>\n",
              "      <td>Speed limit 80</td>\n",
              "    </tr>\n",
              "  </tbody>\n",
              "</table>\n",
              "<p>1887 rows × 6 columns</p>\n",
              "</div>"
            ],
            "text/plain": [
              "                         0     1     2     3     4                        5\n",
              "0             DSC-0134.JPG  1894  1022  1949  1078          Obstacles ahead\n",
              "1             P1840410.JPG  1420  1881  1700  2200                Split way\n",
              "2             P1840312.JPG  2257  1019  3476  2245                Keep left\n",
              "3             P1840522.JPG  2387  1744  2420  1776       Minor road on left\n",
              "4             P1840071.JPG   309  1329   605  1613           Speed limit 50\n",
              "...                    ...   ...   ...   ...   ...                      ...\n",
              "1882          P1840580.JPG  2438   712  2794  1107                 No entry\n",
              "1883   Screenshot (96).png  1407   527  1440   571   Crossroads to the left\n",
              "1884  Screenshot (168).png   754   464   798   506  Crossroads to the right\n",
              "1885          P1840068.JPG  3912  1549  4152  1786           Speed limit 50\n",
              "1886          P1840108.JPG   792  1432  1073  1709           Speed limit 80\n",
              "\n",
              "[1887 rows x 6 columns]"
            ]
          },
          "metadata": {
            "tags": []
          },
          "execution_count": 3
        }
      ]
    },
    {
      "cell_type": "code",
      "metadata": {
        "colab": {
          "base_uri": "https://localhost:8080/"
        },
        "id": "ZQOIc9xAsvWt",
        "outputId": "b2e67679-f45c-4297-d6e0-1ceb6e95b646"
      },
      "source": [
        "\n",
        "images = []\n",
        "rows = df.shape[0]\n",
        "\n",
        "for x in range(rows):\n",
        "  i = df.iloc[x][0]\n",
        "  if i in images:\n",
        "    pass\n",
        "  else:\n",
        "    images.append(i)\n",
        "len(images)"
      ],
      "execution_count": null,
      "outputs": [
        {
          "output_type": "execute_result",
          "data": {
            "text/plain": [
              "1094"
            ]
          },
          "metadata": {
            "tags": []
          },
          "execution_count": 4
        }
      ]
    },
    {
      "cell_type": "code",
      "metadata": {
        "id": "JWsJ8Tg6SRCn"
      },
      "source": [
        "rows = df.shape[0]\n",
        "df.iloc[0][0]\n",
        "df"
      ],
      "execution_count": null,
      "outputs": []
    },
    {
      "cell_type": "code",
      "metadata": {
        "id": "bg0EyUVvqHbi"
      },
      "source": [
        "#GET MIN SIDE#\n",
        "df[[1,2]]\n",
        "min = 9999\n",
        "for xmin, ymin in zip(df[1], df[2]):\n",
        "  #print(xmin, ymin)\n",
        "  if xmin < ymin:\n",
        "    if xmin < min:\n",
        "      min = xmin\n",
        "  elif ymin < xmin:\n",
        "    if ymin < min:\n",
        "      min = ymin\n",
        "min"
      ],
      "execution_count": null,
      "outputs": []
    },
    {
      "cell_type": "code",
      "metadata": {
        "id": "sptBjQA9sq9_"
      },
      "source": [
        "#GET MAX SIDE#\n",
        "max = 0\n",
        "for xmax, ymax in zip(df[3], df[4]):\n",
        "  #print(xmin, ymin)\n",
        "  if xmax > ymax:\n",
        "    if xmax > max:\n",
        "      max = xmax\n",
        "  elif ymax > xmax:\n",
        "    if ymax > max:\n",
        "      max = ymax\n",
        "max"
      ],
      "execution_count": null,
      "outputs": []
    },
    {
      "cell_type": "code",
      "metadata": {
        "id": "2m-3tFnQTEJi"
      },
      "source": [
        "\n",
        "for i in range(rows):\n",
        "  file = df.iloc[i][0]\n",
        "  if (file != 'P1860652.jpg') and (file !='P1860653.jpg') and (file !='P1860654.jpg') and (file !='P1860655.jpg') and (file !='P1860656.jpg'):\n",
        "    if (file[0] == 'P') or (file[0] == 'D'):\n",
        "      file = file.replace(\"jpg\", \"JPG\")\n",
        "      df.at[i, 0] = file\n",
        "      #df.iloc[i][0] = file\n",
        "\n",
        "\n",
        "#df.to_csv('/content/EMTD_ALL/EMTD/Detection/GT39.csv', index=False, header=False)"
      ],
      "execution_count": null,
      "outputs": []
    },
    {
      "cell_type": "code",
      "metadata": {
        "id": "BHUA9wAqPuvd"
      },
      "source": [
        "#TRAIN/TEST SPLIT#\n",
        "#df = df.drop(df.index[[0,1]])\n",
        "#df.reset_index(drop=True, inplace=True)\n",
        "df.to_csv('/content/EMTD_ALL/EMTD/Detection/GT39.csv', index=False, header=False)"
      ],
      "execution_count": null,
      "outputs": []
    },
    {
      "cell_type": "code",
      "metadata": {
        "id": "Of-eI7e1kHhn"
      },
      "source": [
        "df\n",
        "import os\n",
        "print(len(os.listdir('/content/EMTD_ALL/EMTD/Detection')))\n",
        "df"
      ],
      "execution_count": null,
      "outputs": []
    },
    {
      "cell_type": "markdown",
      "metadata": {
        "id": "6jPZQKzXdXox"
      },
      "source": [
        "# Train Keras-RetinaNet using EMTD"
      ]
    },
    {
      "cell_type": "code",
      "metadata": {
        "colab": {
          "base_uri": "https://localhost:8080/"
        },
        "id": "QSaoqBV-rqLU",
        "outputId": "341d80ed-f0e5-44ed-fbea-531e2e2d771f"
      },
      "source": [
        "#%cd -\n",
        "%cd keras-retinanet/\n",
        "%cd keras_retinanet/\n",
        "%cd bin/"
      ],
      "execution_count": null,
      "outputs": [
        {
          "output_type": "stream",
          "text": [
            "/content/keras-retinanet\n",
            "/content/keras-retinanet/keras_retinanet\n",
            "/content/keras-retinanet/keras_retinanet/bin\n"
          ],
          "name": "stdout"
        }
      ]
    },
    {
      "cell_type": "code",
      "metadata": {
        "colab": {
          "base_uri": "https://localhost:8080/"
        },
        "id": "Ikpui1wAvHLc",
        "outputId": "d7b8dcb7-c1c7-4446-d813-074e94e548f2"
      },
      "source": [
        "!ls"
      ],
      "execution_count": null,
      "outputs": [
        {
          "output_type": "stream",
          "text": [
            "convert_model.py  debug.py  evaluate.py  __init__.py  train.py\n"
          ],
          "name": "stdout"
        }
      ]
    },
    {
      "cell_type": "code",
      "metadata": {
        "colab": {
          "base_uri": "https://localhost:8080/"
        },
        "id": "EgHCYGysvNPS",
        "outputId": "c83e3a32-5e40-41c4-9607-40293db6707d"
      },
      "source": [
        "%cd - "
      ],
      "execution_count": null,
      "outputs": [
        {
          "output_type": "stream",
          "text": [
            "/content/keras-retinanet/keras_retinanet/bin\n"
          ],
          "name": "stdout"
        }
      ]
    },
    {
      "cell_type": "code",
      "metadata": {
        "id": "7_9VcUj9cEy6"
      },
      "source": [
        "!python train.py --epochs 4 --steps 1094 --batch-size 1 --config /content/Config/config.ini  --freeze-backbone --random-transform --snapshot-path /content/keras-retinanet/keras_retinanet/bin/snapshots  --snapshot /content/keras-retinanet/keras_retinanet/bin/snapshots/resnet50_csv_05.h5  csv /content/EMTD_ALL/EMTD/Detection/GT39_train_3.csv /content/EMTD_ALL/EMTD/Detection/labels_3.csv --val-annotations /content/EMTD_ALL/EMTD/Detection/GT39_val_1.csv \n",
        "#!python train.py --epochs 10 --steps 1094 --batch-size 1 --config /content/Config/config.ini  --weights /content/keras-retinanet/keras_retinanet/bin/snapshots/resnet50_csv_75.h5  --random-transform --freeze-backbone csv /content/EMTD_ALL/EMTD/Detection/GT39_train_3.csv /content/EMTD_ALL/EMTD/Detection/labels_3.csv --val-annotations /content/EMTD_ALL/EMTD/Detection/GT39_val_1.csv"
      ],
      "execution_count": null,
      "outputs": []
    }
  ]
}