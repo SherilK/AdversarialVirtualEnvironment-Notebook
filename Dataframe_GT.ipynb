{
  "nbformat": 4,
  "nbformat_minor": 0,
  "metadata": {
    "colab": {
      "name": "Dataframe_GT.ipynb",
      "provenance": [],
      "collapsed_sections": []
    },
    "kernelspec": {
      "name": "python3",
      "display_name": "Python 3"
    }
  },
  "cells": [
    {
      "cell_type": "code",
      "metadata": {
        "colab": {
          "base_uri": "https://localhost:8080/"
        },
        "id": "03Xk_C_EP-YN",
        "outputId": "dc94eb2b-614c-4a17-e40d-722be9df3751"
      },
      "source": [
        "from google.colab import drive\n",
        "drive.mount('/content/drive')\n",
        "\n",
        "#!ln -s \"/content/drive/MyDrive/EMTD_Sample/\" \"/content/EMTD/\"\n",
        "#import pandas as pd\n",
        "#df = pd.read_csv('/content/EMTD/EMTD_Sample/Detection_v1/GT39.csv')\n"
      ],
      "execution_count": null,
      "outputs": [
        {
          "output_type": "stream",
          "text": [
            "Drive already mounted at /content/drive; to attempt to forcibly remount, call drive.mount(\"/content/drive\", force_remount=True).\n"
          ],
          "name": "stdout"
        }
      ]
    },
    {
      "cell_type": "code",
      "metadata": {
        "colab": {
          "base_uri": "https://localhost:8080/"
        },
        "id": "_EZRY-M8RLdC",
        "outputId": "3466b684-97a2-438b-c0a5-00a90adc984e"
      },
      "source": [
        "import pandas as pd\n",
        "df = pd.read_csv('/content/adv_dayE.csv', header=None)\n",
        "df.size"
      ],
      "execution_count": 1,
      "outputs": [
        {
          "output_type": "execute_result",
          "data": {
            "text/plain": [
              "2274"
            ]
          },
          "metadata": {
            "tags": []
          },
          "execution_count": 1
        }
      ]
    },
    {
      "cell_type": "code",
      "metadata": {
        "colab": {
          "base_uri": "https://localhost:8080/"
        },
        "id": "EtWdhC6NZxhd",
        "outputId": "cb35756a-8316-4081-9a9e-a20f8ea3ad02"
      },
      "source": [
        "df.columns = ['image_name', 'x_min',\t'y_min','x_max','y_max','class_name']\n",
        "df.iloc[23]"
      ],
      "execution_count": 2,
      "outputs": [
        {
          "output_type": "execute_result",
          "data": {
            "text/plain": [
              "image_name    evening_sun180_0005.jpg\n",
              "x_min                            1123\n",
              "y_min                             469\n",
              "x_max                            1144\n",
              "y_max                             491\n",
              "class_name       Traffic lights ahead\n",
              "Name: 23, dtype: object"
            ]
          },
          "metadata": {
            "tags": []
          },
          "execution_count": 2
        }
      ]
    },
    {
      "cell_type": "code",
      "metadata": {
        "colab": {
          "base_uri": "https://localhost:8080/",
          "height": 35
        },
        "id": "JWsJ8Tg6SRCn",
        "outputId": "e6dee634-19a2-4148-c6d5-a60ba1ed2d9f"
      },
      "source": [
        "rows = df.shape[0]\n",
        "df.iloc[0][0]\n"
      ],
      "execution_count": null,
      "outputs": [
        {
          "output_type": "execute_result",
          "data": {
            "application/vnd.google.colaboratory.intrinsic+json": {
              "type": "string"
            },
            "text/plain": [
              "'DSC-0134.JPG'"
            ]
          },
          "metadata": {
            "tags": []
          },
          "execution_count": 3
        }
      ]
    },
    {
      "cell_type": "code",
      "metadata": {
        "id": "vg9UKLgPAfTE"
      },
      "source": [
        "labels = []\n",
        "for i in range(rows):\n",
        "  l = df.iloc[i][5]\n",
        "  if l in labels:\n",
        "    pass\n",
        "  else:\n",
        "    labels.append(l)"
      ],
      "execution_count": null,
      "outputs": []
    },
    {
      "cell_type": "code",
      "metadata": {
        "id": "d7Qze9ClA4xd"
      },
      "source": [
        "labels"
      ],
      "execution_count": null,
      "outputs": []
    },
    {
      "cell_type": "code",
      "metadata": {
        "colab": {
          "base_uri": "https://localhost:8080/"
        },
        "id": "9av6wJGuA9Yy",
        "outputId": "5dbb748a-097d-4d43-af29-0cf9b262a09c"
      },
      "source": [
        "len(labels)"
      ],
      "execution_count": null,
      "outputs": [
        {
          "output_type": "execute_result",
          "data": {
            "text/plain": [
              "40"
            ]
          },
          "metadata": {
            "tags": []
          },
          "execution_count": 8
        }
      ]
    },
    {
      "cell_type": "code",
      "metadata": {
        "id": "eKIKvQP9Bqn1"
      },
      "source": [
        "df = pd.DataFrame(labels)"
      ],
      "execution_count": null,
      "outputs": []
    },
    {
      "cell_type": "code",
      "metadata": {
        "id": "RbN97a3lBtXV"
      },
      "source": [
        "df"
      ],
      "execution_count": null,
      "outputs": []
    },
    {
      "cell_type": "code",
      "metadata": {
        "id": "86a84MTABxJk"
      },
      "source": [
        "df.to_csv('/content/labels_3.csv', index=False)"
      ],
      "execution_count": null,
      "outputs": []
    },
    {
      "cell_type": "code",
      "metadata": {
        "id": "2m-3tFnQTEJi"
      },
      "source": [
        "'''\n",
        "for i in range(rows):\n",
        "  file = df.iloc[i][0]\n",
        "  if (file != 'P1860652.jpg') or (file !='P1860653.jpg') or (file !='P1860654.jpg') or (file !='P1860655.jpg') or (file !='P1860656.jpg'):\n",
        "    if (file[0] == 'P') or (file[0] == 'D'):\n",
        "      file = file.replace(\"jpg\", \"JPG\")\n",
        "      df.at[i,'0'] = file\n",
        "      #df.iloc[i][0] = file\n",
        "  else:\n",
        "    print(file)\n",
        "'''\n",
        "for i in range(rows):\n",
        "  file = df.iloc[i][0]\n",
        "  if (file != 'P1860652.jpg') and (file !='P1860653.jpg') and (file !='P1860654.jpg') and (file !='P1860655.jpg') and (file !='P1860656.jpg'):\n",
        "    if (file[0] == 'P') or (file[0] == 'D'):\n",
        "      file = file.replace(\"jpg\", \"JPG\")\n",
        "      df.at[i, 0] = file\n",
        "      #df.iloc[i][0] = file\n",
        "\n",
        "df.to_csv('students.csv', index=False)"
      ],
      "execution_count": null,
      "outputs": []
    },
    {
      "cell_type": "code",
      "metadata": {
        "colab": {
          "base_uri": "https://localhost:8080/",
          "height": 411
        },
        "id": "KhYrrBtNXUkP",
        "outputId": "f046d331-e649-4848-8cec-c8c1193f7862"
      },
      "source": [
        "df"
      ],
      "execution_count": null,
      "outputs": [
        {
          "output_type": "execute_result",
          "data": {
            "text/html": [
              "<div>\n",
              "<style scoped>\n",
              "    .dataframe tbody tr th:only-of-type {\n",
              "        vertical-align: middle;\n",
              "    }\n",
              "\n",
              "    .dataframe tbody tr th {\n",
              "        vertical-align: top;\n",
              "    }\n",
              "\n",
              "    .dataframe thead th {\n",
              "        text-align: right;\n",
              "    }\n",
              "</style>\n",
              "<table border=\"1\" class=\"dataframe\">\n",
              "  <thead>\n",
              "    <tr style=\"text-align: right;\">\n",
              "      <th></th>\n",
              "      <th>0</th>\n",
              "      <th>1</th>\n",
              "      <th>2</th>\n",
              "      <th>3</th>\n",
              "      <th>4</th>\n",
              "      <th>5</th>\n",
              "    </tr>\n",
              "  </thead>\n",
              "  <tbody>\n",
              "    <tr>\n",
              "      <th>0</th>\n",
              "      <td>1078.jpg</td>\n",
              "      <td>1626</td>\n",
              "      <td>675</td>\n",
              "      <td>1646</td>\n",
              "      <td>705</td>\n",
              "      <td>U-turn</td>\n",
              "    </tr>\n",
              "    <tr>\n",
              "      <th>1</th>\n",
              "      <td>1078.jpg</td>\n",
              "      <td>1395</td>\n",
              "      <td>715</td>\n",
              "      <td>1403</td>\n",
              "      <td>726</td>\n",
              "      <td>U-turn</td>\n",
              "    </tr>\n",
              "    <tr>\n",
              "      <th>2</th>\n",
              "      <td>1079.jpg</td>\n",
              "      <td>1360</td>\n",
              "      <td>762</td>\n",
              "      <td>1385</td>\n",
              "      <td>794</td>\n",
              "      <td>U-turn</td>\n",
              "    </tr>\n",
              "    <tr>\n",
              "      <th>3</th>\n",
              "      <td>1080.jpg</td>\n",
              "      <td>1818</td>\n",
              "      <td>822</td>\n",
              "      <td>1921</td>\n",
              "      <td>946</td>\n",
              "      <td>U-turn</td>\n",
              "    </tr>\n",
              "    <tr>\n",
              "      <th>4</th>\n",
              "      <td>1092.jpg</td>\n",
              "      <td>2145</td>\n",
              "      <td>465</td>\n",
              "      <td>2254</td>\n",
              "      <td>597</td>\n",
              "      <td>U-turn</td>\n",
              "    </tr>\n",
              "    <tr>\n",
              "      <th>...</th>\n",
              "      <td>...</td>\n",
              "      <td>...</td>\n",
              "      <td>...</td>\n",
              "      <td>...</td>\n",
              "      <td>...</td>\n",
              "      <td>...</td>\n",
              "    </tr>\n",
              "    <tr>\n",
              "      <th>2621</th>\n",
              "      <td>P1860641.JPG</td>\n",
              "      <td>322</td>\n",
              "      <td>1934</td>\n",
              "      <td>446</td>\n",
              "      <td>2028</td>\n",
              "      <td>Split way</td>\n",
              "    </tr>\n",
              "    <tr>\n",
              "      <th>2622</th>\n",
              "      <td>P1860643.JPG</td>\n",
              "      <td>1058</td>\n",
              "      <td>1582</td>\n",
              "      <td>1221</td>\n",
              "      <td>1747</td>\n",
              "      <td>Split way</td>\n",
              "    </tr>\n",
              "    <tr>\n",
              "      <th>2623</th>\n",
              "      <td>P1860644.JPG</td>\n",
              "      <td>2572</td>\n",
              "      <td>1516</td>\n",
              "      <td>2783</td>\n",
              "      <td>1727</td>\n",
              "      <td>Split way</td>\n",
              "    </tr>\n",
              "    <tr>\n",
              "      <th>2624</th>\n",
              "      <td>P1860647.JPG</td>\n",
              "      <td>2456</td>\n",
              "      <td>1803</td>\n",
              "      <td>2686</td>\n",
              "      <td>2036</td>\n",
              "      <td>Split way</td>\n",
              "    </tr>\n",
              "    <tr>\n",
              "      <th>2625</th>\n",
              "      <td>P1860652.jpg</td>\n",
              "      <td>890</td>\n",
              "      <td>523</td>\n",
              "      <td>914</td>\n",
              "      <td>548</td>\n",
              "      <td>Split way</td>\n",
              "    </tr>\n",
              "  </tbody>\n",
              "</table>\n",
              "<p>2626 rows × 6 columns</p>\n",
              "</div>"
            ],
            "text/plain": [
              "                 0     1     2     3     4          5\n",
              "0         1078.jpg  1626   675  1646   705     U-turn\n",
              "1         1078.jpg  1395   715  1403   726     U-turn\n",
              "2         1079.jpg  1360   762  1385   794     U-turn\n",
              "3         1080.jpg  1818   822  1921   946     U-turn\n",
              "4         1092.jpg  2145   465  2254   597     U-turn\n",
              "...            ...   ...   ...   ...   ...        ...\n",
              "2621  P1860641.JPG   322  1934   446  2028  Split way\n",
              "2622  P1860643.JPG  1058  1582  1221  1747  Split way\n",
              "2623  P1860644.JPG  2572  1516  2783  1727  Split way\n",
              "2624  P1860647.JPG  2456  1803  2686  2036  Split way\n",
              "2625  P1860652.jpg   890   523   914   548  Split way\n",
              "\n",
              "[2626 rows x 6 columns]"
            ]
          },
          "metadata": {
            "tags": []
          },
          "execution_count": 33
        }
      ]
    },
    {
      "cell_type": "code",
      "metadata": {
        "colab": {
          "base_uri": "https://localhost:8080/"
        },
        "id": "jB1UwcgtNOUw",
        "outputId": "72179159-c9e8-4212-fdff-12315176403e"
      },
      "source": [
        "import pandas as pd\n",
        "df = pd.read_csv('/content/adv_dayE.csv', header=None)\n",
        "df.size"
      ],
      "execution_count": 4,
      "outputs": [
        {
          "output_type": "execute_result",
          "data": {
            "text/plain": [
              "2274"
            ]
          },
          "metadata": {
            "tags": []
          },
          "execution_count": 4
        }
      ]
    },
    {
      "cell_type": "code",
      "metadata": {
        "id": "2qb5xPOUxM1J"
      },
      "source": [
        "df.columns = ['image_name', 'x_min',\t'y_min','x_max','y_max','class_name']\n"
      ],
      "execution_count": 111,
      "outputs": []
    },
    {
      "cell_type": "code",
      "metadata": {
        "colab": {
          "base_uri": "https://localhost:8080/",
          "height": 35
        },
        "id": "h_Hl5vZLyTBc",
        "outputId": "990f72a6-8c7c-49bc-f0c3-e69b80714636"
      },
      "source": [
        "df.iloc[12][0]"
      ],
      "execution_count": 74,
      "outputs": [
        {
          "output_type": "execute_result",
          "data": {
            "application/vnd.google.colaboratory.intrinsic+json": {
              "type": "string"
            },
            "text/plain": [
              "'sun90_0194.jpg'"
            ]
          },
          "metadata": {
            "tags": []
          },
          "execution_count": 74
        }
      ]
    },
    {
      "cell_type": "code",
      "metadata": {
        "colab": {
          "base_uri": "https://localhost:8080/",
          "height": 419
        },
        "id": "JBATcGqLyd3X",
        "outputId": "edca6f06-dd27-4544-d16b-0bdf45a9a3dd"
      },
      "source": [
        "df"
      ],
      "execution_count": 5,
      "outputs": [
        {
          "output_type": "execute_result",
          "data": {
            "text/html": [
              "<div>\n",
              "<style scoped>\n",
              "    .dataframe tbody tr th:only-of-type {\n",
              "        vertical-align: middle;\n",
              "    }\n",
              "\n",
              "    .dataframe tbody tr th {\n",
              "        vertical-align: top;\n",
              "    }\n",
              "\n",
              "    .dataframe thead th {\n",
              "        text-align: right;\n",
              "    }\n",
              "</style>\n",
              "<table border=\"1\" class=\"dataframe\">\n",
              "  <thead>\n",
              "    <tr style=\"text-align: right;\">\n",
              "      <th></th>\n",
              "      <th>0</th>\n",
              "      <th>1</th>\n",
              "      <th>2</th>\n",
              "      <th>3</th>\n",
              "      <th>4</th>\n",
              "      <th>5</th>\n",
              "    </tr>\n",
              "  </thead>\n",
              "  <tbody>\n",
              "    <tr>\n",
              "      <th>0</th>\n",
              "      <td>image_name</td>\n",
              "      <td>x_min</td>\n",
              "      <td>y_min</td>\n",
              "      <td>x_max</td>\n",
              "      <td>y_max</td>\n",
              "      <td>class_name</td>\n",
              "    </tr>\n",
              "    <tr>\n",
              "      <th>1</th>\n",
              "      <td>evening_sun180_0001.jpg</td>\n",
              "      <td>927</td>\n",
              "      <td>480</td>\n",
              "      <td>953</td>\n",
              "      <td>506</td>\n",
              "      <td>Speed limit 30</td>\n",
              "    </tr>\n",
              "    <tr>\n",
              "      <th>2</th>\n",
              "      <td>evening_sun180_0001.jpg</td>\n",
              "      <td>923</td>\n",
              "      <td>445</td>\n",
              "      <td>958</td>\n",
              "      <td>480</td>\n",
              "      <td>Crossroads</td>\n",
              "    </tr>\n",
              "    <tr>\n",
              "      <th>3</th>\n",
              "      <td>evening_sun180_0001.jpg</td>\n",
              "      <td>1220</td>\n",
              "      <td>409</td>\n",
              "      <td>1267</td>\n",
              "      <td>457</td>\n",
              "      <td>Towing zone</td>\n",
              "    </tr>\n",
              "    <tr>\n",
              "      <th>4</th>\n",
              "      <td>evening_sun180_0001.jpg</td>\n",
              "      <td>1237</td>\n",
              "      <td>459</td>\n",
              "      <td>1268</td>\n",
              "      <td>487</td>\n",
              "      <td>No parking</td>\n",
              "    </tr>\n",
              "    <tr>\n",
              "      <th>...</th>\n",
              "      <td>...</td>\n",
              "      <td>...</td>\n",
              "      <td>...</td>\n",
              "      <td>...</td>\n",
              "      <td>...</td>\n",
              "      <td>...</td>\n",
              "    </tr>\n",
              "    <tr>\n",
              "      <th>374</th>\n",
              "      <td>fogpreetham_0244.jpg</td>\n",
              "      <td>728</td>\n",
              "      <td>286</td>\n",
              "      <td>887</td>\n",
              "      <td>430</td>\n",
              "      <td>Caution</td>\n",
              "    </tr>\n",
              "    <tr>\n",
              "      <th>375</th>\n",
              "      <td>fogpreetham_0248.jpg</td>\n",
              "      <td>663</td>\n",
              "      <td>4</td>\n",
              "      <td>836</td>\n",
              "      <td>191</td>\n",
              "      <td>Camera operated zone</td>\n",
              "    </tr>\n",
              "    <tr>\n",
              "      <th>376</th>\n",
              "      <td>fogpreetham_0248.jpg</td>\n",
              "      <td>658</td>\n",
              "      <td>225</td>\n",
              "      <td>837</td>\n",
              "      <td>395</td>\n",
              "      <td>Caution</td>\n",
              "    </tr>\n",
              "    <tr>\n",
              "      <th>377</th>\n",
              "      <td>fogpreetham_0250.jpg</td>\n",
              "      <td>644</td>\n",
              "      <td>6</td>\n",
              "      <td>824</td>\n",
              "      <td>178</td>\n",
              "      <td>Camera operated zone</td>\n",
              "    </tr>\n",
              "    <tr>\n",
              "      <th>378</th>\n",
              "      <td>fogpreetham_0250.jpg</td>\n",
              "      <td>647</td>\n",
              "      <td>204</td>\n",
              "      <td>825</td>\n",
              "      <td>392</td>\n",
              "      <td>Caution</td>\n",
              "    </tr>\n",
              "  </tbody>\n",
              "</table>\n",
              "<p>379 rows × 6 columns</p>\n",
              "</div>"
            ],
            "text/plain": [
              "                           0      1      2      3      4                     5\n",
              "0                 image_name  x_min  y_min  x_max  y_max            class_name\n",
              "1    evening_sun180_0001.jpg    927    480    953    506        Speed limit 30\n",
              "2    evening_sun180_0001.jpg    923    445    958    480            Crossroads\n",
              "3    evening_sun180_0001.jpg   1220    409   1267    457           Towing zone\n",
              "4    evening_sun180_0001.jpg   1237    459   1268    487            No parking\n",
              "..                       ...    ...    ...    ...    ...                   ...\n",
              "374     fogpreetham_0244.jpg    728    286    887    430               Caution\n",
              "375     fogpreetham_0248.jpg    663      4    836    191  Camera operated zone\n",
              "376     fogpreetham_0248.jpg    658    225    837    395               Caution\n",
              "377     fogpreetham_0250.jpg    644      6    824    178  Camera operated zone\n",
              "378     fogpreetham_0250.jpg    647    204    825    392               Caution\n",
              "\n",
              "[379 rows x 6 columns]"
            ]
          },
          "metadata": {
            "tags": []
          },
          "execution_count": 5
        }
      ]
    },
    {
      "cell_type": "markdown",
      "metadata": {
        "id": "Y4WvOYMdupZa"
      },
      "source": [
        "#Sorting and formating the virtual annotations "
      ]
    },
    {
      "cell_type": "code",
      "metadata": {
        "id": "UKli2z3uxUno"
      },
      "source": [
        "rows = df.shape[0]\n",
        "for i in range(rows):\n",
        "  file = str(df.iloc[i][0])\n",
        "  file = file.replace(\"sun90\", \"evening_sun180\")\n",
        "  print(file)\n",
        "  #df.at[i, 0] = file\n",
        "  df.at[i,'image_name'] = file\n",
        "\n",
        "  "
      ],
      "execution_count": null,
      "outputs": []
    },
    {
      "cell_type": "code",
      "metadata": {
        "id": "OUEWf4KyQJ64"
      },
      "source": [
        "df.to_csv('/content/advDay2.csv', index=False)"
      ],
      "execution_count": 60,
      "outputs": []
    },
    {
      "cell_type": "code",
      "metadata": {
        "id": "sxLJx0w29XSf"
      },
      "source": [
        "df = df.sort_values(by = 'image_name')"
      ],
      "execution_count": 106,
      "outputs": []
    },
    {
      "cell_type": "code",
      "metadata": {
        "colab": {
          "base_uri": "https://localhost:8080/",
          "height": 419
        },
        "id": "pLTUNgt7-vtS",
        "outputId": "f9203261-b99a-4113-a538-d67eccd76542"
      },
      "source": [
        "df"
      ],
      "execution_count": 107,
      "outputs": [
        {
          "output_type": "execute_result",
          "data": {
            "text/html": [
              "<div>\n",
              "<style scoped>\n",
              "    .dataframe tbody tr th:only-of-type {\n",
              "        vertical-align: middle;\n",
              "    }\n",
              "\n",
              "    .dataframe tbody tr th {\n",
              "        vertical-align: top;\n",
              "    }\n",
              "\n",
              "    .dataframe thead th {\n",
              "        text-align: right;\n",
              "    }\n",
              "</style>\n",
              "<table border=\"1\" class=\"dataframe\">\n",
              "  <thead>\n",
              "    <tr style=\"text-align: right;\">\n",
              "      <th></th>\n",
              "      <th>image_name</th>\n",
              "      <th>x_min</th>\n",
              "      <th>y_min</th>\n",
              "      <th>x_max</th>\n",
              "      <th>y_max</th>\n",
              "      <th>class_name</th>\n",
              "    </tr>\n",
              "  </thead>\n",
              "  <tbody>\n",
              "    <tr>\n",
              "      <th>219</th>\n",
              "      <td>fogpreetham_0001.jpg</td>\n",
              "      <td>927</td>\n",
              "      <td>480</td>\n",
              "      <td>953</td>\n",
              "      <td>506</td>\n",
              "      <td>Speed limit 30</td>\n",
              "    </tr>\n",
              "    <tr>\n",
              "      <th>218</th>\n",
              "      <td>fogpreetham_0001.jpg</td>\n",
              "      <td>923</td>\n",
              "      <td>445</td>\n",
              "      <td>958</td>\n",
              "      <td>480</td>\n",
              "      <td>Crossroads</td>\n",
              "    </tr>\n",
              "    <tr>\n",
              "      <th>217</th>\n",
              "      <td>fogpreetham_0001.jpg</td>\n",
              "      <td>1220</td>\n",
              "      <td>409</td>\n",
              "      <td>1267</td>\n",
              "      <td>457</td>\n",
              "      <td>Towing zone</td>\n",
              "    </tr>\n",
              "    <tr>\n",
              "      <th>220</th>\n",
              "      <td>fogpreetham_0001.jpg</td>\n",
              "      <td>1237</td>\n",
              "      <td>459</td>\n",
              "      <td>1268</td>\n",
              "      <td>487</td>\n",
              "      <td>No parking</td>\n",
              "    </tr>\n",
              "    <tr>\n",
              "      <th>221</th>\n",
              "      <td>fogpreetham_0001.jpg</td>\n",
              "      <td>1121</td>\n",
              "      <td>470</td>\n",
              "      <td>1147</td>\n",
              "      <td>492</td>\n",
              "      <td>Traffic lights ahead</td>\n",
              "    </tr>\n",
              "    <tr>\n",
              "      <th>...</th>\n",
              "      <td>...</td>\n",
              "      <td>...</td>\n",
              "      <td>...</td>\n",
              "      <td>...</td>\n",
              "      <td>...</td>\n",
              "      <td>...</td>\n",
              "    </tr>\n",
              "    <tr>\n",
              "      <th>98</th>\n",
              "      <td>fogpreetham_0244.jpg</td>\n",
              "      <td>728</td>\n",
              "      <td>286</td>\n",
              "      <td>887</td>\n",
              "      <td>430</td>\n",
              "      <td>Caution</td>\n",
              "    </tr>\n",
              "    <tr>\n",
              "      <th>555</th>\n",
              "      <td>fogpreetham_0248.jpg</td>\n",
              "      <td>663</td>\n",
              "      <td>4</td>\n",
              "      <td>836</td>\n",
              "      <td>191</td>\n",
              "      <td>Camera operated zone</td>\n",
              "    </tr>\n",
              "    <tr>\n",
              "      <th>556</th>\n",
              "      <td>fogpreetham_0248.jpg</td>\n",
              "      <td>658</td>\n",
              "      <td>225</td>\n",
              "      <td>837</td>\n",
              "      <td>395</td>\n",
              "      <td>Caution</td>\n",
              "    </tr>\n",
              "    <tr>\n",
              "      <th>343</th>\n",
              "      <td>fogpreetham_0250.jpg</td>\n",
              "      <td>644</td>\n",
              "      <td>6</td>\n",
              "      <td>824</td>\n",
              "      <td>178</td>\n",
              "      <td>Camera operated zone</td>\n",
              "    </tr>\n",
              "    <tr>\n",
              "      <th>342</th>\n",
              "      <td>fogpreetham_0250.jpg</td>\n",
              "      <td>647</td>\n",
              "      <td>204</td>\n",
              "      <td>825</td>\n",
              "      <td>392</td>\n",
              "      <td>Caution</td>\n",
              "    </tr>\n",
              "  </tbody>\n",
              "</table>\n",
              "<p>608 rows × 6 columns</p>\n",
              "</div>"
            ],
            "text/plain": [
              "               image_name  x_min  y_min  x_max  y_max            class_name\n",
              "219  fogpreetham_0001.jpg    927    480    953    506        Speed limit 30\n",
              "218  fogpreetham_0001.jpg    923    445    958    480            Crossroads\n",
              "217  fogpreetham_0001.jpg   1220    409   1267    457           Towing zone\n",
              "220  fogpreetham_0001.jpg   1237    459   1268    487            No parking\n",
              "221  fogpreetham_0001.jpg   1121    470   1147    492  Traffic lights ahead\n",
              "..                    ...    ...    ...    ...    ...                   ...\n",
              "98   fogpreetham_0244.jpg    728    286    887    430               Caution\n",
              "555  fogpreetham_0248.jpg    663      4    836    191  Camera operated zone\n",
              "556  fogpreetham_0248.jpg    658    225    837    395               Caution\n",
              "343  fogpreetham_0250.jpg    644      6    824    178  Camera operated zone\n",
              "342  fogpreetham_0250.jpg    647    204    825    392               Caution\n",
              "\n",
              "[608 rows x 6 columns]"
            ]
          },
          "metadata": {
            "tags": []
          },
          "execution_count": 107
        }
      ]
    },
    {
      "cell_type": "code",
      "metadata": {
        "id": "FVVlg0VEEtgI"
      },
      "source": [
        "labels = pd.read_csv('/content/Labels_virtual.csv', header=None)"
      ],
      "execution_count": 7,
      "outputs": []
    },
    {
      "cell_type": "code",
      "metadata": {
        "id": "TRcR-_KSE0HG"
      },
      "source": [
        "labels"
      ],
      "execution_count": null,
      "outputs": []
    },
    {
      "cell_type": "code",
      "metadata": {
        "id": "3sMU6od39_w1"
      },
      "source": [
        "df.to_csv(\"/content/fogpreetham.csv\", index=False)"
      ],
      "execution_count": 108,
      "outputs": []
    }
  ]
}